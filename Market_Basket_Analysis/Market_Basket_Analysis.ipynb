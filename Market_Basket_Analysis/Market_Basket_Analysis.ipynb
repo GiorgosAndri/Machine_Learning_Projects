{
  "nbformat": 4,
  "nbformat_minor": 0,
  "metadata": {
    "colab": {
      "provenance": []
    },
    "kernelspec": {
      "name": "python3",
      "display_name": "Python 3"
    },
    "language_info": {
      "name": "python"
    }
  },
  "cells": [
    {
      "cell_type": "code",
      "execution_count": 1,
      "metadata": {
        "id": "S58bel1_vWwL",
        "colab": {
          "base_uri": "https://localhost:8080/"
        },
        "outputId": "b43f1f3e-60c1-478a-fb30-2caa8952086c"
      },
      "outputs": [
        {
          "output_type": "stream",
          "name": "stdout",
          "text": [
            "Looking in indexes: https://pypi.org/simple, https://us-python.pkg.dev/colab-wheels/public/simple/\n",
            "Collecting pyspark\n",
            "  Downloading pyspark-3.4.0.tar.gz (310.8 MB)\n",
            "\u001b[2K     \u001b[90m━━━━━━━━━━━━━━━━━━━━━━━━━━━━━━━━━━━━━━━\u001b[0m \u001b[32m310.8/310.8 MB\u001b[0m \u001b[31m4.0 MB/s\u001b[0m eta \u001b[36m0:00:00\u001b[0m\n",
            "\u001b[?25h  Preparing metadata (setup.py) ... \u001b[?25l\u001b[?25hdone\n",
            "Requirement already satisfied: py4j==0.10.9.7 in /usr/local/lib/python3.10/dist-packages (from pyspark) (0.10.9.7)\n",
            "Building wheels for collected packages: pyspark\n",
            "  Building wheel for pyspark (setup.py) ... \u001b[?25l\u001b[?25hdone\n",
            "  Created wheel for pyspark: filename=pyspark-3.4.0-py2.py3-none-any.whl size=311317130 sha256=63fa3b93a541ec14f3571437ee9cab957ed62d0fed826c95b87d4315f139d142\n",
            "  Stored in directory: /root/.cache/pip/wheels/7b/1b/4b/3363a1d04368e7ff0d408e57ff57966fcdf00583774e761327\n",
            "Successfully built pyspark\n",
            "Installing collected packages: pyspark\n",
            "Successfully installed pyspark-3.4.0\n"
          ]
        }
      ],
      "source": [
        "!pip install pyspark"
      ]
    },
    {
      "cell_type": "markdown",
      "source": [
        "####Install pyspark, import the libraries and create a spark session."
      ],
      "metadata": {
        "id": "JUKB53hViga_"
      }
    },
    {
      "cell_type": "code",
      "source": [
        "from pyspark.sql import SparkSession\n",
        "from pyspark.ml.fpm import FPGrowth\n",
        "from pyspark.sql.functions import *"
      ],
      "metadata": {
        "id": "1OFYkotw5iqK"
      },
      "execution_count": 2,
      "outputs": []
    },
    {
      "cell_type": "code",
      "source": [
        "spark = SparkSession.builder.appName(\"Session\").getOrCreate()"
      ],
      "metadata": {
        "id": "iPi_qLBq5nfn"
      },
      "execution_count": 3,
      "outputs": []
    },
    {
      "cell_type": "markdown",
      "source": [
        "####Import the train data and join them with the products dataset in order to get the product names.\n",
        "\n",
        "[Data link](https://www.kaggle.com/c/instacart-market-basket-analysis/data)"
      ],
      "metadata": {
        "id": "Px4xf6nNi-1y"
      }
    },
    {
      "cell_type": "code",
      "source": [
        "train_data  = spark.read.csv(\"order_products__train.csv\", header=True, inferSchema=True)\n",
        "products = spark.read.csv(\"products.csv\", header=True, inferSchema=True)\n",
        "df = train_data.join(products, products.product_id == train_data.product_id, \"inner\")\n",
        "df.show()"
      ],
      "metadata": {
        "id": "0kNU0m_05rnm",
        "colab": {
          "base_uri": "https://localhost:8080/"
        },
        "outputId": "9a1045ba-5022-41df-e88b-f5c3a6ed8ce7"
      },
      "execution_count": 4,
      "outputs": [
        {
          "output_type": "stream",
          "name": "stdout",
          "text": [
            "+--------+----------+-----------------+---------+----------+--------------------+--------+-------------+\n",
            "|order_id|product_id|add_to_cart_order|reordered|product_id|        product_name|aisle_id|department_id|\n",
            "+--------+----------+-----------------+---------+----------+--------------------+--------+-------------+\n",
            "|       1|     49302|                1|        1|     49302|    Bulgarian Yogurt|     120|           16|\n",
            "|       1|     11109|                2|        1|     11109|Organic 4% Milk F...|     108|           16|\n",
            "|       1|     10246|                3|        0|     10246|Organic Celery He...|      83|            4|\n",
            "|       1|     49683|                4|        0|     49683|      Cucumber Kirby|      83|            4|\n",
            "|       1|     43633|                5|        1|     43633|Lightly Smoked Sa...|      95|           15|\n",
            "|       1|     13176|                6|        0|     13176|Bag of Organic Ba...|      24|            4|\n",
            "|       1|     47209|                7|        0|     47209|Organic Hass Avocado|      24|            4|\n",
            "|       1|     22035|                8|        1|     22035|Organic Whole Str...|      21|           16|\n",
            "|      36|     39612|                1|        0|     39612|Grated Pecorino R...|       2|           16|\n",
            "|      36|     19660|                2|        1|     19660|        Spring Water|     115|            7|\n",
            "|      36|     49235|                3|        0|     49235| Organic Half & Half|      53|           16|\n",
            "|      36|     43086|                4|        1|     43086|  Super Greens Salad|     123|            4|\n",
            "|      36|     46620|                5|        1|     46620|Cage Free Extra L...|      86|           16|\n",
            "|      36|     34497|                6|        1|     34497|Prosciutto, Ameri...|      96|           20|\n",
            "|      36|     48679|                7|        1|     48679|Organic Garnet Sw...|      83|            4|\n",
            "|      36|     46979|                8|        1|     46979|           Asparagus|      83|            4|\n",
            "|      38|     11913|                1|        0|     11913|  Shelled Pistachios|     117|           19|\n",
            "|      38|     18159|                2|        0|     18159|Organic Biologiqu...|     123|            4|\n",
            "|      38|      4461|                3|        0|      4461|Organic Raw Unfil...|      19|           13|\n",
            "|      38|     21616|                4|        1|     21616|Organic Baby Arugula|     123|            4|\n",
            "+--------+----------+-----------------+---------+----------+--------------------+--------+-------------+\n",
            "only showing top 20 rows\n",
            "\n"
          ]
        }
      ]
    },
    {
      "cell_type": "markdown",
      "source": [
        "####Group the products in lists by order_id"
      ],
      "metadata": {
        "id": "elLrW5g6jyIY"
      }
    },
    {
      "cell_type": "code",
      "source": [
        "transactional_data = df.groupBy(\"order_id\").agg({\"product_name\": \"collect_list\"})\\\n",
        "  .withColumnRenamed(\"collect_list(product_name)\", \"products\")\n",
        "transactional_data.show()"
      ],
      "metadata": {
        "id": "AEnt5yp_Ad6Z",
        "colab": {
          "base_uri": "https://localhost:8080/"
        },
        "outputId": "77ba76d5-1d8c-45d9-fe16-3c0bc3d49b0b"
      },
      "execution_count": 5,
      "outputs": [
        {
          "output_type": "stream",
          "name": "stdout",
          "text": [
            "+--------+--------------------+\n",
            "|order_id|            products|\n",
            "+--------+--------------------+\n",
            "|       1|[Bulgarian Yogurt...|\n",
            "|      96|[Roasted Turkey, ...|\n",
            "|     112|[Fresh Cauliflowe...|\n",
            "|     218|[Natural Artisan ...|\n",
            "|     456|[Chorizo Pork, Pe...|\n",
            "|     473|[Organic Whole Mi...|\n",
            "|     631|[Organic Strawber...|\n",
            "|     762|[Organic Strawber...|\n",
            "|     774|[Ice Cream Variet...|\n",
            "|     844|[Green Beans, Org...|\n",
            "|     904|[Cup Noodles Chic...|\n",
            "|     988|[Natural Vanilla ...|\n",
            "|    1032|[Clover Org Greek...|\n",
            "|    1077|[Bag of Organic B...|\n",
            "|    1119|[Boneless Skinles...|\n",
            "|    1139|[Banana, Organic ...|\n",
            "|    1143|[Natural Premium ...|\n",
            "|    1145|[Banana, Original...|\n",
            "|    1275|[Boneless Skinles...|\n",
            "|    1280|[Lactose Free Hal...|\n",
            "+--------+--------------------+\n",
            "only showing top 20 rows\n",
            "\n"
          ]
        }
      ]
    },
    {
      "cell_type": "markdown",
      "source": [
        "####Get the min support by setting it initially to 1 and then divide the number of rows by 100 and at the same time divide the minsupport by 10. When the x reaches bellow 1, we create an instance of the fpgrowth algorithm, we put our min support and set min confidence to 0.3 because we have a huge dataset."
      ],
      "metadata": {
        "id": "N5lvxP7AkzQx"
      }
    },
    {
      "cell_type": "code",
      "source": [
        "x = transactional_data.count()\n",
        "mins = 1\n",
        "while x > 1:\n",
        "  x = x / 100\n",
        "  mins = mins / 10\n",
        "fp_growth = FPGrowth(itemsCol=\"products\", minSupport=mins, minConfidence=0.3)"
      ],
      "metadata": {
        "id": "ouKqdpopDsu7"
      },
      "execution_count": 6,
      "outputs": []
    },
    {
      "cell_type": "markdown",
      "source": [
        "####We create and train the model of the train dataset"
      ],
      "metadata": {
        "id": "mf8c23Njl_Qm"
      }
    },
    {
      "cell_type": "code",
      "source": [
        "model = fp_growth.fit(transactional_data)"
      ],
      "metadata": {
        "id": "HR935X0o8MvR"
      },
      "execution_count": 7,
      "outputs": []
    },
    {
      "cell_type": "markdown",
      "source": [
        "####We get a dataset of the most frequent itemsets along with their frequency"
      ],
      "metadata": {
        "id": "Sb41pZ7emOir"
      }
    },
    {
      "cell_type": "code",
      "source": [
        "frequent_itemsets = model.freqItemsets\n",
        "print(\"Frequent Itemsets:\")\n",
        "frequent_itemsets.show(truncate=False)"
      ],
      "metadata": {
        "colab": {
          "base_uri": "https://localhost:8080/"
        },
        "id": "YhefgkpeES7S",
        "outputId": "581f9ab2-a8e1-4bb1-d7b9-21c9483bf0ac"
      },
      "execution_count": 8,
      "outputs": [
        {
          "output_type": "stream",
          "name": "stdout",
          "text": [
            "Frequent Itemsets:\n",
            "+-------------------------------------------------------+----+\n",
            "|items                                                  |freq|\n",
            "+-------------------------------------------------------+----+\n",
            "|[White Cheddar Popcorn]                                |370 |\n",
            "|[Organic YoKids Very Berry Smoothies]                  |259 |\n",
            "|[Total 0% Nonfat Greek Yogurt]                         |993 |\n",
            "|[Total 0% Nonfat Greek Yogurt, Organic Avocado]        |137 |\n",
            "|[Total 0% Nonfat Greek Yogurt, Bag of Organic Bananas] |157 |\n",
            "|[Total 0% Nonfat Greek Yogurt, Organic Baby Spinach]   |143 |\n",
            "|[Total 0% Nonfat Greek Yogurt, Banana]                 |258 |\n",
            "|[Organic Large Green Asparagus]                        |730 |\n",
            "|[Organic Large Green Asparagus, Organic Strawberries]  |185 |\n",
            "|[Organic Large Green Asparagus, Bag of Organic Bananas]|263 |\n",
            "|[Organic Large Green Asparagus, Organic Baby Spinach]  |136 |\n",
            "|[Organic Large Green Asparagus, Organic Hass Avocado]  |164 |\n",
            "|[Organic Cream Cheese Bar]                             |365 |\n",
            "|[Organic Reduced Fat Omega-3 Milk]                     |140 |\n",
            "|[Florida Orange Juice With Calcium & Vitamin D]        |283 |\n",
            "|[Green Onions]                                         |1445|\n",
            "|[Green Onions, Limes]                                  |206 |\n",
            "|[Green Onions, Organic Avocado]                        |133 |\n",
            "|[Green Onions, Bunched Cilantro]                       |187 |\n",
            "|[Green Onions, Large Lemon]                            |229 |\n",
            "+-------------------------------------------------------+----+\n",
            "only showing top 20 rows\n",
            "\n"
          ]
        }
      ]
    },
    {
      "cell_type": "markdown",
      "source": [
        "####We generate and show the association rules"
      ],
      "metadata": {
        "id": "uvhjJqjampR-"
      }
    },
    {
      "cell_type": "code",
      "source": [
        "association_rules = model.associationRules\n",
        "\n",
        "print(\"Association Rules:\")\n",
        "association_rules.orderBy(col(\"confidence\").desc()).show()"
      ],
      "metadata": {
        "colab": {
          "base_uri": "https://localhost:8080/"
        },
        "id": "q0GOOYNlKBpp",
        "outputId": "ae060bd8-8337-417f-dbc0-a04e093ac44b"
      },
      "execution_count": 9,
      "outputs": [
        {
          "output_type": "stream",
          "name": "stdout",
          "text": [
            "Association Rules:\n",
            "+--------------------+--------------------+-------------------+------------------+--------------------+\n",
            "|          antecedent|          consequent|         confidence|              lift|             support|\n",
            "+--------------------+--------------------+-------------------+------------------+--------------------+\n",
            "|[Organic Raspberr...|[Bag of Organic B...| 0.5984251968503937| 5.072272070642333|0.001737685677049...|\n",
            "|[Organic Cucumber...|[Bag of Organic B...|           0.546875| 4.635330870478036|0.001066999977135...|\n",
            "|[Organic Kiwi, Or...|[Bag of Organic B...| 0.5459770114942529| 4.627719489738336|0.001448071397541327|\n",
            "|[Organic Navel Or...|[Bag of Organic B...| 0.5412186379928315| 4.587387356098284|0.001150835689624...|\n",
            "|[Yellow Onions, S...|            [Banana]| 0.5357142857142857|3.7536332219526702|0.001143214261216...|\n",
            "|[Organic Whole St...|[Bag of Organic B...| 0.5314685314685315| 4.504745125675359|0.001158457118033...|\n",
            "|[Organic Navel Or...|[Bag of Organic B...| 0.5283018867924528| 4.477904539027839|0.001493799967990...|\n",
            "|[Organic Raspberr...|[Bag of Organic B...|  0.521099116781158| 4.416853618458589|0.004046978484707604|\n",
            "|[Organic D'Anjou ...|[Bag of Organic B...| 0.5170454545454546|4.3824946411792345|0.001387099970276...|\n",
            "|[Organic Unsweete...|[Bag of Organic B...| 0.5141065830721003| 4.357584667849303|0.001249914258930...|\n",
            "|[Organic Broccoli...|[Bag of Organic B...| 0.5048231511254019| 4.278897986822536|0.001196564260073623|\n",
            "|[Organic Lemon, O...|[Bag of Organic B...| 0.4989106753812636| 4.228783643804924|0.001745307105457...|\n",
            "|[Organic Hass Avo...|[Bag of Organic B...|0.49393939393939396|4.1866468953096865|0.001242292830522...|\n",
            "|[Organic Fuji App...|            [Banana]| 0.4915254237288136|3.4440114985599646|0.001105107119176276|\n",
            "|[Honeycrisp Apple...|            [Banana]| 0.4868421052631579|3.4111965069675145|0.001409964255500766|\n",
            "|[Organic Large Ex...|[Bag of Organic B...| 0.4838709677419355| 4.101306576644161|0.001829142817946...|\n",
            "|[Organic Gala App...|[Bag of Organic B...| 0.4837905236907731| 4.100624730164253|0.001478557111173...|\n",
            "|[Organic Navel Or...|[Bag of Organic B...| 0.4821002386634845| 4.086297817493356|0.001539528538438...|\n",
            "|[Organic Kiwi, Or...|[Bag of Organic B...| 0.4792332268370607| 4.061996928944697|0.001143214261216...|\n",
            "|[Organic Carrot B...|[Bag of Organic B...|0.47315436241610737| 4.010472269913116|0.001074621405543827|\n",
            "+--------------------+--------------------+-------------------+------------------+--------------------+\n",
            "only showing top 20 rows\n",
            "\n"
          ]
        }
      ]
    },
    {
      "cell_type": "markdown",
      "source": [
        "####We upload and transform our order data"
      ],
      "metadata": {
        "id": "3VtLTfEwm9sT"
      }
    },
    {
      "cell_type": "code",
      "source": [
        "order_products  = spark.read.csv(\"order_products__prior.csv\", header=True, inferSchema=True)\n",
        "df2 = order_products.join(products, products.product_id == order_products.product_id, \"inner\")\n",
        "order_data = df.groupBy(\"order_id\").agg({\"product_name\": \"collect_list\"})\\\n",
        "  .withColumnRenamed(\"collect_list(product_name)\", \"products\")"
      ],
      "metadata": {
        "id": "C6MTdLtabGkB"
      },
      "execution_count": 10,
      "outputs": []
    },
    {
      "cell_type": "markdown",
      "source": [
        "####Apply the model to the orders dataset in order to make predictions and show the predicted associations for the orders dataset."
      ],
      "metadata": {
        "id": "jHV0SMQrnqnF"
      }
    },
    {
      "cell_type": "code",
      "source": [
        "predictions = model.transform(order_data)"
      ],
      "metadata": {
        "id": "1a4sGXwWAfuR"
      },
      "execution_count": 11,
      "outputs": []
    },
    {
      "cell_type": "code",
      "source": [
        "predictions.show(truncate=False)"
      ],
      "metadata": {
        "colab": {
          "base_uri": "https://localhost:8080/"
        },
        "id": "ySuif0H8AnMf",
        "outputId": "78d7ac2c-12d5-4d1c-d268-9ac56b3176b3"
      },
      "execution_count": 13,
      "outputs": [
        {
          "output_type": "stream",
          "name": "stdout",
          "text": [
            "+--------+-----------------------------------------------------------------------------------------------------------------------------------------------------------------------------------------------------------------------------------------------------------------------------------------------------------------------------------------------------------------------------------------------------------------------------------------------------------------------------------------------------------------------------------------------------------------------------------------------------------------------------------------------------------------------------------------------------------------------------------------------------------------------------------------------------------------------------------------------------------------------------------------------------------------------------------------------------+------------------------------------------------------------------------------------------+\n",
            "|order_id|products                                                                                                                                                                                                                                                                                                                                                                                                                                                                                                                                                                                                                                                                                                                                                                                                                                                                                                                                             |prediction                                                                                |\n",
            "+--------+-----------------------------------------------------------------------------------------------------------------------------------------------------------------------------------------------------------------------------------------------------------------------------------------------------------------------------------------------------------------------------------------------------------------------------------------------------------------------------------------------------------------------------------------------------------------------------------------------------------------------------------------------------------------------------------------------------------------------------------------------------------------------------------------------------------------------------------------------------------------------------------------------------------------------------------------------------+------------------------------------------------------------------------------------------+\n",
            "|1       |[Bulgarian Yogurt, Organic 4% Milk Fat Whole Milk Cottage Cheese, Organic Celery Hearts, Cucumber Kirby, Lightly Smoked Sardines in Olive Oil, Bag of Organic Bananas, Organic Hass Avocado, Organic Whole String Cheese]                                                                                                                                                                                                                                                                                                                                                                                                                                                                                                                                                                                                                                                                                                                            |[Organic Strawberries, Banana]                                                            |\n",
            "|96      |[Roasted Turkey, Organic Cucumber, Organic Grape Tomatoes, Organic Pomegranate Kernels, Organic Raspberries, Organic Whole Strawberries, Organic Blueberries]                                                                                                                                                                                                                                                                                                                                                                                                                                                                                                                                                                                                                                                                                                                                                                                        |[Organic Strawberries, Bag of Organic Bananas, Organic Hass Avocado, Organic Baby Spinach]|\n",
            "|112     |[Fresh Cauliflower, I Heart Baby Kale, Sea Salt Baked Potato Chips, Marinara Pasta Sauce, Organic Hass Avocado, Organic Lemon, Coconut Water Kefir, Premium Epsom Salt, Umcka Elderberry Intensive Cold + Flu Berry Flavor, Hickory Honey Barbeque Baked Potato Chips, Baked Sea Salt & Vinegar Potato Chips]                                                                                                                                                                                                                                                                                                                                                                                                                                                                                                                                                                                                                                        |[Bag of Organic Bananas]                                                                  |\n",
            "|218     |[Natural Artisan Water, Okra, Organic Yellow Peaches, Black Plum, Citrus Mandarins Organic]                                                                                                                                                                                                                                                                                                                                                                                                                                                                                                                                                                                                                                                                                                                                                                                                                                                          |[Organic Strawberries, Bag of Organic Bananas]                                            |\n",
            "|456     |[Chorizo Pork, Petite Peas, Max Gel Clog Remover, Green Beans, Naturally Hickory Smoked Hometown Original Bacon, Extra Virgin Olive Oil, Mediterranean Fine Sea Salt, Pure Ground, Large Lemon]                                                                                                                                                                                                                                                                                                                                                                                                                                                                                                                                                                                                                                                                                                                                                      |[]                                                                                        |\n",
            "|473     |[Organic Whole Milk with DHA Omega-3, Banana, Unsweetened Original Almond Breeze Almond Milk, Baby Wipes, Basil Pesto, Mushroom Ravioli, Spinaci e Ricotta Ravioli, Multi Grain Waffles]                                                                                                                                                                                                                                                                                                                                                                                                                                                                                                                                                                                                                                                                                                                                                             |[]                                                                                        |\n",
            "|631     |[Organic Strawberries, Uncured Genoa Salami, Organic Baby Carrots, Gluten Free Organic Taco Sliders Corn Tortillas, Organic Chili Powder Blend, Organic Cilantro, Mild Salsa, Garlic, Tamari Gluten Free Soy Sauce, Broccoli Crown, Organic Red Radish, Bunch, Organic Asian Chopped Salad Kit, Dairy Free Coconut Milk Raspberry Yogurt Alternative, Dairy Free Coconut Milk Yogurt Alternative, French Vanilla Coconut Milk Creamer, Vanilla Almond Milk, Organic Italian Parsley Bunch]                                                                                                                                                                                                                                                                                                                                                                                                                                                           |[Bag of Organic Bananas, Banana]                                                          |\n",
            "|762     |[Organic Strawberries, Organic Romaine Lettuce, Celery Hearts, Organic Cucumber]                                                                                                                                                                                                                                                                                                                                                                                                                                                                                                                                                                                                                                                                                                                                                                                                                                                                     |[Bag of Organic Bananas]                                                                  |\n",
            "|774     |[Ice Cream Variety Pack, Nacho Cheese Sauce, Deli-Sliced Hot Jalapeño Peppers]                                                                                                                                                                                                                                                                                                                                                                                                                                                                                                                                                                                                                                                                                                                                                                                                                                                                       |[]                                                                                        |\n",
            "|844     |[Green Beans, Organic Red Radish, Bunch, Baby Spinach, Organic Shredded Carrots, Granny Smith Apples, Garlic Couscous, Cheese Pizza Snacks]                                                                                                                                                                                                                                                                                                                                                                                                                                                                                                                                                                                                                                                                                                                                                                                                          |[Banana]                                                                                  |\n",
            "|904     |[Cup Noodles Chicken Flavor, Zero Calorie Cola]                                                                                                                                                                                                                                                                                                                                                                                                                                                                                                                                                                                                                                                                                                                                                                                                                                                                                                      |[Soda]                                                                                    |\n",
            "|988     |[Natural Vanilla Ice Cream, Whipped Light Cream, Original, Complete ActionPacs Lemon Burst Dishwasher Detergent, Classic Vanilla Coffee Creamer]                                                                                                                                                                                                                                                                                                                                                                                                                                                                                                                                                                                                                                                                                                                                                                                                     |[]                                                                                        |\n",
            "|1032    |[Clover Org Greek Plain, Electrolyte Enhanced Water, Organic Raspberries, Natural Spring Water, Goodness Grapeness Organic Juice Drink, Small Hass Avocado, Cheese Pizza, Water, Unsweet, Blood Orange, Unsweetened Honeydew Essence Water, Organic Living Butter Lettuce, Pineapple Apple Mint Organic Cold Pressed Juicd, Le Petite Fromage Parmesan & Basil, Organic Small Bunch Celery, Organic Large Extra Fancy Fuji Apple, Organic Bartlett Pear, Apple Honeycrisp Organic, Xylitol Sweetener, Amaaazing Blueberry Apple Juice Blend Drink, Water New Zealand, New Zealand Artesian Water, Wild Berry Sparkling Energy Water, Dolmas, Taco Seasoning, Original Long Grain & Wild Rice Mix, Garlic & Herb Rice Pilaf Mix]                                                                                                                                                                                                                      |[Bag of Organic Bananas, Organic Strawberries]                                            |\n",
            "|1077    |[Bag of Organic Bananas, Celery Sticks, Sparkling Water, Organic Strawberries]                                                                                                                                                                                                                                                                                                                                                                                                                                                                                                                                                                                                                                                                                                                                                                                                                                                                       |[]                                                                                        |\n",
            "|1119    |[Boneless Skinless Chicken Breast, Large Lemon, Organic Grade A Free Range Large Brown Eggs, Fresh Cauliflower, Broccoli Crown, Shallot]                                                                                                                                                                                                                                                                                                                                                                                                                                                                                                                                                                                                                                                                                                                                                                                                             |[Banana]                                                                                  |\n",
            "|1139    |[Banana, Organic Strawberries, Red Vine Tomato, Organic Bakery Hamburger Buns Wheat - 8 CT, Guacamole, Picnic Potato Salad, Cinnamon Rolls with Icing, Flaky Biscuits, Buttermilk Biscuits]                                                                                                                                                                                                                                                                                                                                                                                                                                                                                                                                                                                                                                                                                                                                                          |[]                                                                                        |\n",
            "|1143    |[Natural Premium Coconut Water, Calming Lavender Body Wash, Unscented Long Lasting Stick Deodorant, Organic Raspberries, Organic Blueberries, Organic Hass Avocado, Organic Butterhead (Boston, Butter, Bibb) Lettuce, Baby Arugula, Large Lemon, Organic Garlic, Organic Red Radish, Bunch, Rustic Baguette, Organic Brussel Sprouts, Organic Capellini Whole Wheat Pasta, Basil Pesto, Spring Water, Water]                                                                                                                                                                                                                                                                                                                                                                                                                                                                                                                                        |[Bag of Organic Bananas, Organic Strawberries, Banana]                                    |\n",
            "|1145    |[Banana, Original French Toast Sticks, Healthy Multi Grain Bread, Harvest Best in 100% Fruit Juice Mandarin Oranges, Little Bites Blueberry Muffin Pouches, Harvest Cheddar Multigrain Chips, Mexican Casserole Bowl, Natural Uncured Turkey Hot Dog, Original Red Raspberry Yogurt, Goldfish Parmesan Baked Snack Crackers, Multi Grain Cheerios Cereal, Roma Tomato, Shredded Mild Cheddar Cheese, Light Mozzarella String Cheese, Eggs, Cheese & Turkey Sausage Breakfast Burrito, Everything Bagel, Danimals Strawberry Explosion & Strikin' Strawberry Kiwi Smoothies, Spaghetti Pasta, Signature Recipes Vodka Sauce Pasta Sauce, Spinach Pizza, Hash Brown Potato Patties, Nacho Cheese & Bean Snacks, 2% Low Fat Cottage Cheese, Original Nooks & Crannies English Muffins, Milano Milk Chocolate Cookies, Strawberries, Strawberry Frozen Greek Yogurt Bars, Instant Whole Grain Brown Rice, Stir Fry Seasoning Mix, Classic Stir-fry Sauce]|[]                                                                                        |\n",
            "|1275    |[Boneless Skinless Chicken Breast, Organic Garnet Sweet Potato (Yam), Small Hass Avocado, Extra Virgin Olive Oil, Balsamic Vinegar Of Modena]                                                                                                                                                                                                                                                                                                                                                                                                                                                                                                                                                                                                                                                                                                                                                                                                        |[]                                                                                        |\n",
            "|1280    |[Lactose Free Half & Half, Organic Half & Half, Vanilla Soy Milk, Organic Whole Milk, French Vanilla Creamer]                                                                                                                                                                                                                                                                                                                                                                                                                                                                                                                                                                                                                                                                                                                                                                                                                                        |[]                                                                                        |\n",
            "+--------+-----------------------------------------------------------------------------------------------------------------------------------------------------------------------------------------------------------------------------------------------------------------------------------------------------------------------------------------------------------------------------------------------------------------------------------------------------------------------------------------------------------------------------------------------------------------------------------------------------------------------------------------------------------------------------------------------------------------------------------------------------------------------------------------------------------------------------------------------------------------------------------------------------------------------------------------------------+------------------------------------------------------------------------------------------+\n",
            "only showing top 20 rows\n",
            "\n"
          ]
        }
      ]
    },
    {
      "cell_type": "code",
      "source": [],
      "metadata": {
        "id": "Yxq2auTbUhYT"
      },
      "execution_count": null,
      "outputs": []
    }
  ]
}